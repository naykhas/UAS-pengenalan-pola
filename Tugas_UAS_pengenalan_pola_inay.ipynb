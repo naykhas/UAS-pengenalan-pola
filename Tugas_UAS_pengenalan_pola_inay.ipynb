{
  "cells": [
    {
      "cell_type": "code",
      "execution_count": null,
      "metadata": {
        "id": "fGroUe99Tz6t"
      },
      "outputs": [],
      "source": [
        "# Import library\n",
        "\n",
        "import numpy as np\n",
        "from tensorflow.keras.preprocessing.image import ImageDataGenerator\n",
        "import tensorflow as tf\n",
        "import os\n",
        "import cv2\n",
        "from sklearn.model_selection import train_test_split\n",
        "from keras.utils import to_categorical\n",
        "from keras.models import Sequential\n",
        "from keras.layers import Conv2D, MaxPooling2D, Flatten, Dense, Dropout"
      ]
    },
    {
      "cell_type": "code",
      "execution_count": null,
      "metadata": {
        "id": "NOa_cCI0ULdH"
      },
      "outputs": [],
      "source": [
        "# Data Pre Processing\n",
        "\n",
        "data_dir = 'drive/MyDrive/khasna/rps-cv-images' # call data directory\n",
        "classes = os.listdir(data_dir)\n",
        "\n",
        "height = 128 # image height\n",
        "width = 128 # image width\n",
        "\n",
        "with open('image_label.txt', 'w') as f:\n",
        "    for image_class in classes:\n",
        "        f.write(f'{image_class}\\n')\n",
        "\n",
        "data = []\n",
        "labels = []\n",
        "\n",
        "for dirname, _, filenames in os.walk(data_dir):\n",
        "    data_class = dirname.split(os.path.sep)[-1]\n",
        "    for filename in filenames:\n",
        "        img_path = os.path.join(dirname, filename)\n",
        "\n",
        "        image = cv2.imread(img_path)\n",
        "        image = cv2.cvtColor(image, cv2.COLOR_BGR2RGB)\n",
        "        image = cv2.resize(image, (height , width))\n",
        "\n",
        "        data.append(image)\n",
        "        labels.append(classes.index(data_class))\n",
        "\n",
        "# Ubah data ke numpy array\n",
        "data = np.array(data)\n",
        "labels = np.array(labels)\n",
        "\n",
        "labels = to_categorical(labels)"
      ]
    },
    {
      "cell_type": "code",
      "execution_count": null,
      "metadata": {
        "id": "aulRudFsbJYq"
      },
      "outputs": [],
      "source": [
        "# Splitting Data\n",
        "\n",
        "X_train, X_test, y_train, y_test = train_test_split(data, labels, test_size=0.1, random_state=42)"
      ]
    },
    {
      "cell_type": "code",
      "execution_count": null,
      "metadata": {
        "colab": {
          "base_uri": "https://localhost:8080/"
        },
        "id": "YCwthZMAbSLT",
        "outputId": "fbe732df-2ba2-4754-d8de-36f913f36d03"
      },
      "outputs": [
        {
          "name": "stdout",
          "output_type": "stream",
          "text": [
            "Total training images: 1969\n",
            "Total test images: 219\n"
          ]
        }
      ],
      "source": [
        "# Checking Data\n",
        "\n",
        "num_training_images = len(X_train)\n",
        "print(\"Total training images:\", num_training_images)\n",
        "num_test_images = len(X_test)\n",
        "print(\"Total test images:\", num_test_images)"
      ]
    },
    {
      "cell_type": "code",
      "execution_count": null,
      "metadata": {
        "id": "k6fJLQA-bmFy"
      },
      "outputs": [],
      "source": [
        "# Image Augmentation Process\n",
        "\n",
        "train_data = ImageDataGenerator(\n",
        "    rescale = 1./255,\n",
        "    rotation_range = 40,\n",
        "    zoom_range = 0.2,\n",
        "    width_shift_range = 0.2,\n",
        "    height_shift_range = 0.2,\n",
        "    shear_range = 0.2,\n",
        "    horizontal_flip = True,\n",
        "    fill_mode = 'nearest'\n",
        ")\n",
        "\n",
        "train_data.fit(X_train)\n",
        "\n",
        "test_data = ImageDataGenerator(rescale = 1./255)\n",
        "\n",
        "test_data.fit(X_test)"
      ]
    },
    {
      "cell_type": "code",
      "execution_count": null,
      "metadata": {
        "id": "U1s5jO0EbyYA"
      },
      "outputs": [],
      "source": [
        "# Buat arsitektur model neural network (menggunakan CNN)\n",
        "\n",
        "def create_model():\n",
        "    model = tf.keras.models.Sequential()\n",
        "    model.add(Conv2D(64, kernel_size=(3, 3), activation='relu', padding='same', input_shape=(width, height, 3)))\n",
        "    model.add(MaxPooling2D(2,2))\n",
        "    model.add(Conv2D(64, kernel_size=(3, 3), activation='relu'))\n",
        "    model.add(MaxPooling2D(2,2))\n",
        "    model.add(Conv2D(64, kernel_size=(3, 3), activation='relu'))\n",
        "    model.add(MaxPooling2D(2,2))\n",
        "    model.add(Flatten())\n",
        "    model.add(Dense(256, activation = 'relu'))\n",
        "    model.add(Dense(len(classes), activation = 'softmax'))\n",
        "    model.summary()\n",
        "    return model"
      ]
    },
    {
      "cell_type": "code",
      "execution_count": null,
      "metadata": {
        "colab": {
          "base_uri": "https://localhost:8080/"
        },
        "id": "GXKpf23Tb1vu",
        "outputId": "2f817066-3d2a-469e-9850-140203ad2633"
      },
      "outputs": [
        {
          "name": "stdout",
          "output_type": "stream",
          "text": [
            "Model: \"sequential_1\"\n",
            "_________________________________________________________________\n",
            " Layer (type)                Output Shape              Param #   \n",
            "=================================================================\n",
            " conv2d_3 (Conv2D)           (None, 128, 128, 64)      1792      \n",
            "                                                                 \n",
            " max_pooling2d_3 (MaxPooling  (None, 64, 64, 64)       0         \n",
            " 2D)                                                             \n",
            "                                                                 \n",
            " conv2d_4 (Conv2D)           (None, 62, 62, 64)        36928     \n",
            "                                                                 \n",
            " max_pooling2d_4 (MaxPooling  (None, 31, 31, 64)       0         \n",
            " 2D)                                                             \n",
            "                                                                 \n",
            " conv2d_5 (Conv2D)           (None, 29, 29, 64)        36928     \n",
            "                                                                 \n",
            " max_pooling2d_5 (MaxPooling  (None, 14, 14, 64)       0         \n",
            " 2D)                                                             \n",
            "                                                                 \n",
            " flatten_1 (Flatten)         (None, 12544)             0         \n",
            "                                                                 \n",
            " dense_2 (Dense)             (None, 256)               3211520   \n",
            "                                                                 \n",
            " dense_3 (Dense)             (None, 3)                 771       \n",
            "                                                                 \n",
            "=================================================================\n",
            "Total params: 3,287,939\n",
            "Trainable params: 3,287,939\n",
            "Non-trainable params: 0\n",
            "_________________________________________________________________\n"
          ]
        },
        {
          "data": {
            "text/plain": [
              "<keras.engine.sequential.Sequential at 0x7fa7695b2c20>"
            ]
          },
          "execution_count": 17,
          "metadata": {},
          "output_type": "execute_result"
        }
      ],
      "source": [
        "# Summary model\n",
        "\n",
        "image_model = create_model()\n",
        "image_model"
      ]
    },
    {
      "cell_type": "code",
      "execution_count": null,
      "metadata": {
        "colab": {
          "background_save": true,
          "base_uri": "https://localhost:8080/"
        },
        "id": "WwaQQDJAb1U8",
        "outputId": "19ef20fd-fb51-4910-b7fa-8d99ccb96ee5"
      },
      "outputs": [
        {
          "name": "stdout",
          "output_type": "stream",
          "text": [
            "Epoch 1/5\n",
            "62/62 [==============================] - 139s 2s/step - loss: 16.3951 - accuracy: 0.7349 - val_loss: 0.2847 - val_accuracy: 0.9132\n",
            "Epoch 2/5\n",
            "62/62 [==============================] - 122s 2s/step - loss: 0.1595 - accuracy: 0.9421 - val_loss: 0.1689 - val_accuracy: 0.9498\n",
            "Epoch 3/5\n",
            "62/62 [==============================] - 122s 2s/step - loss: 0.0607 - accuracy: 0.9807 - val_loss: 0.0835 - val_accuracy: 0.9726\n",
            "Epoch 4/5\n",
            "62/62 [==============================] - 121s 2s/step - loss: 0.0525 - accuracy: 0.9827 - val_loss: 0.1733 - val_accuracy: 0.9361\n",
            "Epoch 5/5\n",
            "62/62 [==============================] - 118s 2s/step - loss: 0.0266 - accuracy: 0.9898 - val_loss: 0.0975 - val_accuracy: 0.9680\n"
          ]
        },
        {
          "data": {
            "text/plain": [
              "<keras.callbacks.History at 0x7fa761fc5240>"
            ]
          },
          "execution_count": 18,
          "metadata": {},
          "output_type": "execute_result"
        }
      ],
      "source": [
        "image_model.compile(optimizer='adam', loss='categorical_crossentropy', metrics=['accuracy'])\n",
        "image_model.fit(X_train, y_train, epochs=5, batch_size=32, validation_data=(X_test, y_test))"
      ]
    },
    {
      "cell_type": "code",
      "execution_count": null,
      "metadata": {
        "id": "iYt_ytkOgJir"
      },
      "outputs": [],
      "source": [
        "# Cek akurasi model\n",
        "\n",
        "loss, accuracy = image_model.evaluate(X_test, y_test)\n",
        "print(\"Loss: \", loss)\n",
        "print(\"Accuracy: \", accuracy)"
      ]
    },
    {
      "cell_type": "code",
      "execution_count": null,
      "metadata": {
        "id": "dsDQOqY_gRES"
      },
      "outputs": [],
      "source": [
        "# Simpan model\n",
        "\n",
        "image_model.save('image_model')"
      ]
    }
  ],
  "metadata": {
    "colab": {
      "provenance": []
    },
    "kernelspec": {
      "display_name": "Python 3",
      "name": "python3"
    },
    "language_info": {
      "name": "python"
    }
  },
  "nbformat": 4,
  "nbformat_minor": 0
}